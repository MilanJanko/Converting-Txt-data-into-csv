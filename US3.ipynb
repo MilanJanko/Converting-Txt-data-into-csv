{
 "cells": [
  {
   "cell_type": "markdown",
   "source": [
    "Project script is made for reading several .txt files, containing some data in several columns, converting them into valid dataframe and sorting values according to the relevant column.\n",
    "Files need to be processed and combined into one .csv file, data needs to be wrangled and excluded of Nan values. Text files in this case are made of rows that are separated by points (......)."
   ],
   "metadata": {
    "collapsed": false
   }
  },
  {
   "cell_type": "code",
   "execution_count": 14,
   "outputs": [],
   "source": [
    "import os\n",
    "import pandas as pd"
   ],
   "metadata": {
    "collapsed": false,
    "ExecuteTime": {
     "end_time": "2023-07-25T18:40:48.533740700Z",
     "start_time": "2023-07-25T18:40:48.526739400Z"
    }
   }
  },
  {
   "cell_type": "markdown",
   "source": [
    "Initializing empty Dataframe and function which will add empty row at the end of each .txt file, since last row is always shown as bad one and Pandas skips it."
   ],
   "metadata": {
    "collapsed": false
   }
  },
  {
   "cell_type": "code",
   "execution_count": 6,
   "outputs": [],
   "source": [
    "combined_files = pd.DataFrame()\n",
    "def add_rows_to_text_file(file_path):\n",
    "    with open(file_path, 'a') as file:\n",
    "        file.write('\\n')"
   ],
   "metadata": {
    "collapsed": false,
    "ExecuteTime": {
     "end_time": "2023-07-25T18:35:20.492258100Z",
     "start_time": "2023-07-25T18:35:20.478023300Z"
    }
   }
  },
  {
   "cell_type": "code",
   "execution_count": 60,
   "outputs": [],
   "source": [
    "directory = \"C:/Users\\Anja/Downloads/relative importance inputs/No item code\""
   ],
   "metadata": {
    "collapsed": false,
    "ExecuteTime": {
     "end_time": "2023-07-25T20:29:22.640694400Z",
     "start_time": "2023-07-25T20:29:22.625067100Z"
    }
   }
  },
  {
   "cell_type": "markdown",
   "source": [
    "Processing/ reading files into Dataframe, skipping header rows (12) and creating rows with tab as delimiter. All of files are then concating into one Dataframe. Each row is then split and added into combined data."
   ],
   "metadata": {
    "collapsed": false
   }
  },
  {
   "cell_type": "code",
   "execution_count": 89,
   "outputs": [],
   "source": [
    "\n",
    "def process_and_combine_files(directory):\n",
    "    combined_data = pd.DataFrame()  # Initialize an empty DataFrame to store the combined data\n",
    "\n",
    "    for filename in os.listdir(directory):\n",
    "        if filename.endswith(\".txt\"):\n",
    "            file_path = os.path.join(directory, filename)\n",
    "            add_rows_to_text_file(file_path)\n",
    "            data = pd.read_csv(file_path, delimiter=\"\\t\", on_bad_lines='skip', skiprows=12)\n",
    "            data.columns = ['Podaci']\n",
    "            splitted = data['Podaci'].str.split(r'\\.{2,}', n=1, expand=True)\n",
    "            data[['Item and Group', 'Value']] = splitted\n",
    "            data[['CPI-U', 'CPI-W']] = data['Value'].str.split(expand=True)\n",
    "            data.drop(columns=['Podaci', 'Value'], inplace=True)\n",
    "            data['Item and Group'] = data['Item and Group'].str.strip()\n",
    "            data['CPI-U'] = data['CPI-U'].str.strip()\n",
    "            data['CPI-W'] = data['CPI-W'].str.strip()\n",
    "\n",
    "            combined_data = pd.concat([combined_data,data], ignore_index=True)\n",
    "\n",
    "    return combined_data"
   ],
   "metadata": {
    "collapsed": false,
    "ExecuteTime": {
     "end_time": "2023-07-25T20:49:44.682435800Z",
     "start_time": "2023-07-25T20:49:44.669444500Z"
    }
   }
  },
  {
   "cell_type": "code",
   "execution_count": 105,
   "outputs": [
    {
     "data": {
      "text/plain": "(7753, 3)"
     },
     "execution_count": 105,
     "metadata": {},
     "output_type": "execute_result"
    }
   ],
   "source": [
    "df = process_and_combine_files(directory)\n",
    "df.reset_index(drop = True, inplace=True)\n",
    "df.shape"
   ],
   "metadata": {
    "collapsed": false,
    "ExecuteTime": {
     "end_time": "2023-07-25T20:54:07.136996900Z",
     "start_time": "2023-07-25T20:54:06.935816100Z"
    }
   }
  },
  {
   "cell_type": "markdown",
   "source": [
    "Combining files created several rows that had Nan values (usually data that was represented  in 2 rows). Correcting rows is merging 2 rows into one, combining first column (string) into one string and merging float values into one value. Then, I erased rows which had all Nan values in second and third column."
   ],
   "metadata": {
    "collapsed": false
   }
  },
  {
   "cell_type": "code",
   "execution_count": 106,
   "outputs": [
    {
     "data": {
      "text/plain": "(7361, 3)"
     },
     "execution_count": 106,
     "metadata": {},
     "output_type": "execute_result"
    }
   ],
   "source": [
    "for i in range(len(df) - 1):\n",
    "    if pd.isna(df.at[i, 'CPI-U']) and pd.isna(df.at[i, 'CPI-W']):\n",
    "        df.at[i+1, 'Item and Group'] = df.at[i, 'Item and Group'] + ' ' + df.at[i+1, 'Item and Group']\n",
    "        df.at[i, 'Item and Group'] = ''\n",
    "\n",
    "df.isna().sum()\n",
    "df = df[df['Item and Group'] != '']\n",
    "df.shape"
   ],
   "metadata": {
    "collapsed": false,
    "ExecuteTime": {
     "end_time": "2023-07-25T20:54:08.920023800Z",
     "start_time": "2023-07-25T20:54:08.904007100Z"
    }
   }
  },
  {
   "cell_type": "code",
   "execution_count": 107,
   "outputs": [],
   "source": [
    "out_dir_proba = \"E:/\"\n",
    "out_csv = os.path.join(out_dir_proba, 'combined_part2.csv')\n",
    "df.to_csv(out_csv, index=False)"
   ],
   "metadata": {
    "collapsed": false,
    "ExecuteTime": {
     "end_time": "2023-07-25T20:54:12.069244100Z",
     "start_time": "2023-07-25T20:54:12.040238500Z"
    }
   }
  }
 ],
 "metadata": {
  "kernelspec": {
   "display_name": "Python 3",
   "language": "python",
   "name": "python3"
  },
  "language_info": {
   "codemirror_mode": {
    "name": "ipython",
    "version": 2
   },
   "file_extension": ".py",
   "mimetype": "text/x-python",
   "name": "python",
   "nbconvert_exporter": "python",
   "pygments_lexer": "ipython2",
   "version": "2.7.6"
  }
 },
 "nbformat": 4,
 "nbformat_minor": 0
}
